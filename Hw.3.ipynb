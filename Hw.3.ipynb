{
 "cells": [
  {
   "cell_type": "code",
   "execution_count": 1,
   "id": "d2808e77-25e5-4dcd-8ebd-80dd09ee444c",
   "metadata": {},
   "outputs": [],
   "source": [
    "import numpy as np\n",
    "import pandas as pd\n",
    "\n",
    "# напишіть функцію гіпотези лінійної регресії у векторному вигляді\n",
    "def lin_reg(w0, w1, x):\n",
    "    \"\"\"\n",
    "    w0 (scalar) - Перші ваги\n",
    "    w1 (scalar) - Другі ваги та коефіцієнт для x\n",
    "    x (scalar) - Ознака\n",
    "    \"\"\"\n",
    "    vector_w = np.array([w0, w1])\n",
    "    vector_x = np.array([1, x]).reshape(-1, 1)\n",
    "    return np.dot(vector_w, vector_x)"
   ]
  },
  {
   "cell_type": "code",
   "execution_count": 2,
   "id": "8f0aa623-ec30-4b31-93be-d628d006d8a1",
   "metadata": {},
   "outputs": [],
   "source": [
    "# створіть функцію для обчислення функції втрат у векторному вигляді\n",
    "def mse_function(vector_w, X, y):\n",
    "    \"\"\"\n",
    "    vector_w (array) - Вектор параметрів моделі (ваги).\n",
    "    X (array) - Матриця ознак.\n",
    "    y (array) - Вектор цільової змінної.\n",
    "    \"\"\"\n",
    "    m = len(y)\n",
    "    predictions = np.dot(X, vector_w)\n",
    "    squared_errors = (predictions - y) ** 2\n",
    "    result = (1 / (2 * m)) * np.sum(squared_errors)\n",
    "    return result"
   ]
  },
  {
   "cell_type": "code",
   "execution_count": 3,
   "id": "b340c0ea-4345-401c-ac61-5e45cacd4de0",
   "metadata": {},
   "outputs": [],
   "source": [
    "# реалізуйте один крок градієнтного спуску\n",
    "def gradient_descent_step(X, y, vector_w, learning_rate):\n",
    "    \"\"\"\n",
    "    X (array) - Матриця ознак (включаючи стовпець з одиницями для зсуву)\n",
    "    y (array) - Вектор цільових значень\n",
    "    vector_w (array) - Поточні значення параметрів моделі\n",
    "    learning_rate (float) - Швидкість навчання (розмір кроку градієнтного спуску)\n",
    "\n",
    "    return - array: Оновлені значення параметрів моделі\n",
    "    \"\"\"\n",
    "    m = len(y)\n",
    "    predictions = np.dot(X, vector_w)\n",
    "    errors = predictions - y\n",
    "    gradient = (1 / m) * np.dot(X.T, errors)\n",
    "    vector_w_result = vector_w - learning_rate * gradient\n",
    "    return vector_w_result"
   ]
  },
  {
   "cell_type": "code",
   "execution_count": 4,
   "id": "fbbc1d3c-029c-417a-8230-5a6002f15abe",
   "metadata": {},
   "outputs": [
    {
     "name": "stdout",
     "output_type": "stream",
     "text": [
      "        price  area  bedrooms  bathrooms  stories mainroad guestroom basement  \\\n",
      "0    13300000  7420         4          2        3      yes        no       no   \n",
      "1    12250000  8960         4          4        4      yes        no       no   \n",
      "2    12250000  9960         3          2        2      yes        no      yes   \n",
      "3    12215000  7500         4          2        2      yes        no      yes   \n",
      "4    11410000  7420         4          1        2      yes       yes      yes   \n",
      "..        ...   ...       ...        ...      ...      ...       ...      ...   \n",
      "540   1820000  3000         2          1        1      yes        no      yes   \n",
      "541   1767150  2400         3          1        1       no        no       no   \n",
      "542   1750000  3620         2          1        1      yes        no       no   \n",
      "543   1750000  2910         3          1        1       no        no       no   \n",
      "544   1750000  3850         3          1        2      yes        no       no   \n",
      "\n",
      "    hotwaterheating airconditioning  parking prefarea furnishingstatus  \n",
      "0                no             yes        2      yes        furnished  \n",
      "1                no             yes        3       no        furnished  \n",
      "2                no              no        2      yes   semi-furnished  \n",
      "3                no             yes        3      yes        furnished  \n",
      "4                no             yes        2       no        furnished  \n",
      "..              ...             ...      ...      ...              ...  \n",
      "540              no              no        2       no      unfurnished  \n",
      "541              no              no        0       no   semi-furnished  \n",
      "542              no              no        0       no      unfurnished  \n",
      "543              no              no        0       no        furnished  \n",
      "544              no              no        0       no      unfurnished  \n",
      "\n",
      "[545 rows x 13 columns]\n"
     ]
    }
   ],
   "source": [
    "# знайдіть найкращі параметри w для датасету прогнозуючу ціну на будинок залежно від площі, кількості ванних кімнат та кількості спалень\n",
    "data = pd.read_csv(\"D:\\Python\\DataScience homeworks\\hw3\\Housing.csv\")\n",
    "print(data)"
   ]
  },
  {
   "cell_type": "code",
   "execution_count": 5,
   "id": "08b8e6fa-f26e-4664-bd60-88e8c243d00f",
   "metadata": {},
   "outputs": [
    {
     "name": "stdout",
     "output_type": "stream",
     "text": [
      "Збіжність досягнута на ітерації 2181.\n",
      "Оптимальні параметри вагів: [4766729.24628011  821214.16789549  299983.75008319  695808.33287788]\n"
     ]
    }
   ],
   "source": [
    "X = data[['area', 'bedrooms', 'bathrooms']].values # Беремо необхнідні дані\n",
    "X = (X - X.mean(axis=0)) / X.std(axis=0) # Нормалізуємо їх\n",
    "X = np.c_[np.ones(X.shape[0]), X] # Додаємо стовпець з одиницями\n",
    "y = data['price'].values # Беремо цільові значення\n",
    "vector_w = np.zeros(X.shape[1]) # Створюємо початкові ваги, array\n",
    "\n",
    "learning_rate = 0.01\n",
    "max_iterations = 10000\n",
    "epsilon = 1e-5\n",
    "prev_loss = 999999999999\n",
    "\n",
    "iteration = 0\n",
    "while iteration < max_iterations:\n",
    "    vector_w = gradient_descent_step(X, y, vector_w, learning_rate)\n",
    "    loss = mse_function(vector_w, X, y)\n",
    "    if abs(prev_loss - loss) < epsilon:\n",
    "        print(f\"Збіжність досягнута на ітерації {iteration}.\")\n",
    "        break\n",
    "    prev_loss = loss\n",
    "    iteration += 1        \n",
    "\n",
    "if iteration == max_iterations:\n",
    "    print(\"Попередньо встановлене максимальне число ітерацій досягнуто.\")\n",
    "\n",
    "print(\"Оптимальні параметри вагів:\", vector_w)"
   ]
  },
  {
   "cell_type": "code",
   "execution_count": 6,
   "id": "6a4effbb-15a7-4c15-9bfc-c32e34344ad9",
   "metadata": {},
   "outputs": [
    {
     "name": "stdout",
     "output_type": "stream",
     "text": [
      "Оптимальні параметри вагів: [4766729.247706422, 821214.1434951875, 299983.57107963285, 695808.5227253672]\n"
     ]
    }
   ],
   "source": [
    "# знайдіть ці ж параметри за допомогою аналітичного рішення\n",
    "from sklearn.linear_model import LinearRegression\n",
    "from sklearn.preprocessing import StandardScaler\n",
    "X = data[['area', 'bedrooms', 'bathrooms']]\n",
    "\n",
    "\n",
    "scaler = StandardScaler()\n",
    "X_scaled = scaler.fit_transform(X)\n",
    "\n",
    "y = data['price']\n",
    "\n",
    "model = LinearRegression()\n",
    "model.fit(X_scaled, y)\n",
    "\n",
    "vector_w_analitics = [model.intercept_] + model.coef_.tolist()\n",
    "print(\"Оптимальні параметри вагів:\", vector_w_analitics)"
   ]
  },
  {
   "cell_type": "code",
   "execution_count": 9,
   "id": "dcf987c6-128e-44e5-b16e-9a2abac1b8ac",
   "metadata": {},
   "outputs": [
    {
     "name": "stdout",
     "output_type": "stream",
     "text": [
      "Перші отримані параметри вагів - [4766729.24628011  821214.16789549  299983.75008319  695808.33287788]\n",
      "Другі отримані параметри вагів - [4766729.247706422, 821214.1434951875, 299983.57107963285, 695808.5227253672]\n",
      "Похибка значення вагів при різних підходах до обчислення - [-0.00142631  0.02440031  0.17900355 -0.18984749]\n"
     ]
    }
   ],
   "source": [
    "# порівняйте отримані результати\n",
    "print(f\"Перші отримані параметри вагів - {vector_w}\")\n",
    "print(f\"Другі отримані параметри вагів - {vector_w_analitics}\")\n",
    "print(f\"Похибка значення вагів при різних підходах до обчислення - {vector_w - vector_w_analitics}\")"
   ]
  },
  {
   "cell_type": "code",
   "execution_count": null,
   "id": "77c45017-5c46-4bff-9a09-a1cb74b3f914",
   "metadata": {},
   "outputs": [],
   "source": []
  }
 ],
 "metadata": {
  "kernelspec": {
   "display_name": "Python 3 (ipykernel)",
   "language": "python",
   "name": "python3"
  },
  "language_info": {
   "codemirror_mode": {
    "name": "ipython",
    "version": 3
   },
   "file_extension": ".py",
   "mimetype": "text/x-python",
   "name": "python",
   "nbconvert_exporter": "python",
   "pygments_lexer": "ipython3",
   "version": "3.11.3"
  }
 },
 "nbformat": 4,
 "nbformat_minor": 5
}
